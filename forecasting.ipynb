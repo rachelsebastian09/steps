{
 "cells": [
  {
   "cell_type": "code",
   "execution_count": null,
   "id": "3287d8b4-06c7-4903-ac64-f9890ee65327",
   "metadata": {},
   "outputs": [],
   "source": [
    "# Imports\n",
    "import numpy as np\n",
    "import pandas as pd\n",
    "import matplotlib.pyplot as plt\n",
    "from statsmodels.tsa.stattools import adfuller\n",
    "from statsmodels.graphics.tsaplots import plot_acf, plot_pacf\n",
    "from sklearn.metrics import mean_absolute_error, mean_squared_error\n",
    "import plotly.graph_objects as go"
   ]
  },
  {
   "cell_type": "code",
   "execution_count": null,
   "id": "a558584a-41a4-4708-a844-b1f204de1d3b",
   "metadata": {},
   "outputs": [],
   "source": [
    "# Read in data\n",
    "df = pd.read_csv(\"daily_steps.csv\")"
   ]
  },
  {
   "cell_type": "code",
   "execution_count": null,
   "id": "ec9b2eb8-237f-4bb2-b77c-d4ae06b365f3",
   "metadata": {
    "scrolled": true
   },
   "outputs": [],
   "source": [
    "display(df)"
   ]
  },
  {
   "cell_type": "code",
   "execution_count": null,
   "id": "afc8da04-d8ae-4e89-99cb-96fe2e25fc1b",
   "metadata": {},
   "outputs": [],
   "source": [
    "# Convert to date time\n",
    "df['date'] = pd.to_datetime(df['date'])\n",
    "df1 = df.set_index('date')\n",
    "\n",
    "# Aggregate monthly\n",
    "monthly_steps = df1.resample('ME').mean()"
   ]
  },
  {
   "cell_type": "code",
   "execution_count": null,
   "id": "7b0f1e5f-e019-468c-ac54-7096a4665a86",
   "metadata": {},
   "outputs": [],
   "source": [
    "plt.figure(figsize=(12, 6))\n",
    "plt.plot(monthly_steps['steps'], linewidth=1.5,c='blue')\n",
    "plt.title(\"Monthly steps\")\n",
    "plt.xlabel(\"Date\")\n",
    "plt.ylabel(\"Steps\")\n",
    "plt.show()"
   ]
  },
  {
   "cell_type": "code",
   "execution_count": null,
   "id": "e705f71b-392d-4a09-95f0-274b981c9d7a",
   "metadata": {},
   "outputs": [],
   "source": [
    "# Check for autocorrelation\n",
    "plot_acf(monthly_steps)\n",
    "plot_pacf(monthly_steps)\n",
    "plt.show()"
   ]
  },
  {
   "cell_type": "code",
   "execution_count": null,
   "id": "97a5f058-e0dc-4afa-a9bb-bb679711c101",
   "metadata": {},
   "outputs": [],
   "source": [
    "# Check for seasonality\n",
    "from statsmodels.tsa.seasonal import seasonal_decompose\n",
    "\n",
    "# Decompose the time series into trend, seasonal, and residual components\n",
    "decomposition = seasonal_decompose(monthly_steps, model='additive', period = 12) \n",
    "decomposition.plot()\n",
    "plt.show()"
   ]
  },
  {
   "cell_type": "code",
   "execution_count": null,
   "id": "d93c778f-7c83-4e46-89e4-8300c0047be1",
   "metadata": {},
   "outputs": [],
   "source": [
    "# From these plots, it seems to data is seasonal and trending downward. \n",
    "# Based on the residuals, a monthly cadence may not capture all the trends in the data"
   ]
  },
  {
   "cell_type": "code",
   "execution_count": null,
   "id": "a6162062-614b-456f-b123-bd1b890e54ae",
   "metadata": {},
   "outputs": [],
   "source": [
    "# Dickey-Fuller test\n",
    "result = adfuller(weekly_steps['steps'], autolag='AIC')\n",
    "p_value = result[1]\n",
    "print(f'ADF Statistic: {result[0]}')\n",
    "print(f'p-value: {p_value}')\n",
    "print('Stationary' if p_value < 0.05 else 'Non-Stationary')"
   ]
  },
  {
   "cell_type": "code",
   "execution_count": null,
   "id": "dfee6337-437a-4089-a647-c1a123792e7a",
   "metadata": {},
   "outputs": [],
   "source": [
    "from statsmodels.tsa.holtwinters import ExponentialSmoothing\n",
    "\n",
    "# Fit Holt-Winters model\n",
    "model = ExponentialSmoothing(monthly_steps['steps'], trend='add', seasonal='add', seasonal_periods=12)\n",
    "results = model.fit()\n",
    "\n",
    "# Forecast for 12 months ahead\n",
    "forecast_steps = 12 \n",
    "holtwinters_forecast = results.forecast(steps=forecast_steps)\n",
    "\n",
    "# Find error to make confidence intervals\n",
    "forecast_se = np.std(results.resid) \n",
    "\n",
    "# Confidence interval at 95%\n",
    "z_score = 1.96 \n",
    "upper_bound = forecast + z_score * forecast_se\n",
    "lower_bound = forecast - z_score * forecast_se\n",
    "\n",
    "# Put in df\n",
    "holtwinters_df = pd.DataFrame({\n",
    "    'Forecast': holtwinters_forecast,\n",
    "    'Upper Bound': upper_bound,\n",
    "    'Lower Bound': lower_bound\n",
    "})"
   ]
  },
  {
   "cell_type": "code",
   "execution_count": null,
   "id": "c77b6096-546c-4249-ac4a-7a3b06b611cc",
   "metadata": {},
   "outputs": [],
   "source": [
    "display(holtwinters_df)"
   ]
  },
  {
   "cell_type": "code",
   "execution_count": null,
   "id": "c684779a-6ebb-49c3-a140-5ddd4d044cf6",
   "metadata": {},
   "outputs": [],
   "source": [
    "# Aggregate by month and find average\n",
    "monthly_steps[\"Month\"] = monthly_steps.index.month\n",
    "monthly_avg = monthly_steps.groupby(\"Month\")[\"steps\"].mean()\n",
    "\n",
    "# Generate future dates for 2025\n",
    "last_date = monthly_steps.index[-1]\n",
    "future_dates = pd.date_range(start=last_date + pd.DateOffset(months=1), periods=12, freq=\"ME\")\n",
    "\n",
    "# Extract month numbers for future dates\n",
    "future_months = future_dates.month\n",
    "\n",
    "# Create 2025 forecast using the monthly averages\n",
    "average_forecast = pd.DataFrame({\"steps\": [monthly_avg[m] for m in future_months]}, index=future_dates)\n",
    "\n",
    "print(average_forecast)"
   ]
  },
  {
   "cell_type": "code",
   "execution_count": null,
   "id": "33133842-dc1b-4c51-b03c-3e0a1c75a5bb",
   "metadata": {},
   "outputs": [],
   "source": [
    "# Find shifted forecast using last 12 data points in monthly_steps (2024 data)\n",
    "shifted_forecast = monthly_steps[-12:]\n",
    "shifted_forecast.index = future_dates"
   ]
  },
  {
   "cell_type": "code",
   "execution_count": null,
   "id": "446b7c69-1640-495c-b9b1-d5220dc47666",
   "metadata": {},
   "outputs": [],
   "source": [
    "shifted_forecast"
   ]
  },
  {
   "cell_type": "code",
   "execution_count": null,
   "id": "3ed8c518-13b7-4d56-9f8e-4b30ef3dfe47",
   "metadata": {},
   "outputs": [],
   "source": [
    "# combine forecasting data to one df\n",
    "forecast_df = pd.concat([\n",
    "    holtwinters_forecast,\n",
    "    average_forecast,\n",
    "    shifted_forecast['steps']], \n",
    "    axis=1)\n",
    "\n",
    "# Rename columns\n",
    "forecast_df.columns = ['holtwinters', 'average', 'shifted']\n",
    "print(forecast_df)\n",
    "\n",
    "# Write to csv for use in streamlit dashboard\n",
    "forecast_df.to_csv(\"combined_forecast.csv\", index=True)"
   ]
  },
  {
   "cell_type": "code",
   "execution_count": null,
   "id": "be625f11-2047-4aa9-9770-798016fa49f1",
   "metadata": {},
   "outputs": [],
   "source": [
    "fig = go.Figure()\n",
    "\n",
    "# Add step observations\n",
    "fig.add_trace(go.Scatter(\n",
    "    x=monthly_steps.index, \n",
    "    y=monthly_steps['steps'], \n",
    "    mode='lines', \n",
    "    name='Historical Data', \n",
    "    line=dict(color='blue')\n",
    "))\n",
    "\n",
    "# Holt Winters forecast\n",
    "fig.add_trace(go.Scatter(\n",
    "    x=forecast_df.index, \n",
    "    y=forecast_df['holtwinters'], \n",
    "    mode='lines', \n",
    "    name=\"Holt Winter's Forecast\", \n",
    "    line=dict(color='red', dash='dash')\n",
    "))\n",
    "\n",
    "\n",
    "# Add averaged data\n",
    "fig.add_trace(go.Scatter(\n",
    "    x=forecast_df.index, \n",
    "    y=forecast_df['average'], \n",
    "    mode='lines', \n",
    "    name='Average by Month', \n",
    "    line=dict(color='green', dash='dash')\n",
    "))\n",
    "\n",
    "# Add 2024 shifted data\n",
    "fig.add_trace(go.Scatter(\n",
    "    x=forecast_df.index, \n",
    "    y=forecast_df['shifted'], \n",
    "    mode='lines', \n",
    "    name='2024 Shifted', \n",
    "    line=dict(color='orange', dash='dash')\n",
    "))\n",
    "\n",
    "# Layout settings\n",
    "fig.update_layout(\n",
    "    title=\"2025 Forecasting\",\n",
    "    xaxis_title=\"Month\",\n",
    "    yaxis_title=\"Steps\",\n",
    "    template=\"plotly_white\"\n",
    ")\n",
    "\n",
    "fig.show()"
   ]
  }
 ],
 "metadata": {
  "kernelspec": {
   "display_name": "Python 3 (ipykernel)",
   "language": "python",
   "name": "python3"
  },
  "language_info": {
   "codemirror_mode": {
    "name": "ipython",
    "version": 3
   },
   "file_extension": ".py",
   "mimetype": "text/x-python",
   "name": "python",
   "nbconvert_exporter": "python",
   "pygments_lexer": "ipython3",
   "version": "3.13.1"
  }
 },
 "nbformat": 4,
 "nbformat_minor": 5
}
